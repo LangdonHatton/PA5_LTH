{
 "cells": [
  {
   "cell_type": "markdown",
   "id": "658dc48d",
   "metadata": {},
   "source": [
    "## Langdon Hatton\n",
    "## CS-150-01\n",
    "## PA5"
   ]
  },
  {
   "cell_type": "code",
   "execution_count": 44,
   "id": "c757ede2",
   "metadata": {},
   "outputs": [
    {
     "name": "stdout",
     "output_type": "stream",
     "text": [
      "dict_keys(['red', 'walk', 'work', 'name', 'shirt', 'shoes', 'arms', 'dog', 'cat', 'talk', 'run', 'sleep', 'car', 'phone', 'paper', 'hello', 'bye', 'school', 'flower', 'socks'])\n",
      "Enter a work to translate: shirt\n",
      "camisa\n"
     ]
    }
   ],
   "source": [
    "print(translation.keys())\n",
    "t=str(input('Enter a work to translate: '))\n",
    "translation={\n",
    "    'red' : 'rojo',\n",
    "    'walk' : 'caminar',\n",
    "    'work' : 'trabajar',\n",
    "    'name' : 'nombre',\n",
    "    'shirt' : 'camisa',\n",
    "    'shoes' : 'zapatos',\n",
    "    'arms' : 'brazos',\n",
    "    'dog' : 'perro',\n",
    "    'cat' : 'gato',\n",
    "    'talk' : 'hablar',\n",
    "    'run' : 'correr',\n",
    "    'sleep' : 'dormir',\n",
    "    'car' : 'auto',\n",
    "    'phone' : 'telefono',\n",
    "    'paper' : 'papel',\n",
    "    'hello' : 'hola',\n",
    "    'bye' : 'adios',\n",
    "    'school' : 'escuela',\n",
    "    'flower' : 'flor',\n",
    "    'socks' : 'calcetines'}\n",
    "print(translation[t])\n"
   ]
  },
  {
   "cell_type": "code",
   "execution_count": 43,
   "id": "7cb24323",
   "metadata": {},
   "outputs": [
    {
     "data": {
      "text/plain": [
       "{'Monday': 23.88888888888889,\n",
       " 'Tuesday': 25.0,\n",
       " 'Wednesday': 26.11111111111111,\n",
       " 'Thursday': 20.555555555555554,\n",
       " 'Friday': 19.444444444444443,\n",
       " 'Saturday': 26.666666666666664,\n",
       " 'Sunday': 27.22222222222222}"
      ]
     },
     "execution_count": 43,
     "metadata": {},
     "output_type": "execute_result"
    }
   ],
   "source": [
    "temp={'Monday' : 75,\n",
    "      'Tuesday' : 77,\n",
    "      'Wednesday' : 79,\n",
    "      'Thursday' : 69,\n",
    "      'Friday' : 67,\n",
    "      'Saturday' : 80,\n",
    "       'Sunday' : 81}\n",
    "for key in temp:\n",
    "    temp[key]-=32\n",
    "    temp[key]/=1.8\n",
    "temp"
   ]
  },
  {
   "cell_type": "code",
   "execution_count": 45,
   "id": "0e65cc00",
   "metadata": {},
   "outputs": [
    {
     "name": "stdout",
     "output_type": "stream",
     "text": [
      "{1: 1, 2: 4, 3: 9, 4: 16, 5: 25, 6: 36, 7: 49, 8: 64, 9: 81, 10: 100, 11: 121, 12: 144, 13: 169, 14: 196, 15: 225}\n"
     ]
    }
   ],
   "source": [
    "d=dict()\n",
    "for x in range(1,16):\n",
    "    d[x]=x**2\n",
    "print(d)  "
   ]
  },
  {
   "cell_type": "code",
   "execution_count": null,
   "id": "a69d22a8",
   "metadata": {},
   "outputs": [],
   "source": []
  },
  {
   "cell_type": "code",
   "execution_count": null,
   "id": "178cd4bb",
   "metadata": {},
   "outputs": [],
   "source": []
  },
  {
   "cell_type": "code",
   "execution_count": null,
   "id": "7ebbc7f9",
   "metadata": {},
   "outputs": [],
   "source": []
  },
  {
   "cell_type": "code",
   "execution_count": null,
   "id": "245f7876",
   "metadata": {},
   "outputs": [],
   "source": []
  },
  {
   "cell_type": "code",
   "execution_count": null,
   "id": "c0e95d9d",
   "metadata": {},
   "outputs": [],
   "source": []
  },
  {
   "cell_type": "code",
   "execution_count": null,
   "id": "6c76558a",
   "metadata": {},
   "outputs": [],
   "source": []
  },
  {
   "cell_type": "code",
   "execution_count": null,
   "id": "203a17f7",
   "metadata": {},
   "outputs": [],
   "source": []
  },
  {
   "cell_type": "code",
   "execution_count": null,
   "id": "39308d36",
   "metadata": {},
   "outputs": [],
   "source": []
  },
  {
   "cell_type": "code",
   "execution_count": null,
   "id": "3d0f58d3",
   "metadata": {},
   "outputs": [],
   "source": []
  },
  {
   "cell_type": "code",
   "execution_count": null,
   "id": "b40f49fe",
   "metadata": {},
   "outputs": [],
   "source": []
  },
  {
   "cell_type": "code",
   "execution_count": null,
   "id": "9719953b",
   "metadata": {},
   "outputs": [],
   "source": []
  },
  {
   "cell_type": "code",
   "execution_count": null,
   "id": "3f972900",
   "metadata": {},
   "outputs": [],
   "source": []
  },
  {
   "cell_type": "code",
   "execution_count": null,
   "id": "bac175e5",
   "metadata": {},
   "outputs": [],
   "source": []
  }
 ],
 "metadata": {
  "kernelspec": {
   "display_name": "Python 3 (ipykernel)",
   "language": "python",
   "name": "python3"
  },
  "language_info": {
   "codemirror_mode": {
    "name": "ipython",
    "version": 3
   },
   "file_extension": ".py",
   "mimetype": "text/x-python",
   "name": "python",
   "nbconvert_exporter": "python",
   "pygments_lexer": "ipython3",
   "version": "3.9.12"
  }
 },
 "nbformat": 4,
 "nbformat_minor": 5
}
